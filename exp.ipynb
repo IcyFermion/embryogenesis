{
 "cells": [
  {
   "cell_type": "code",
   "execution_count": 1,
   "id": "e23a2074",
   "metadata": {},
   "outputs": [],
   "source": [
    "import pandas as pd\n",
    "ts_df = pd.read_csv(\"./data/tracks.txt\", sep=\"\\t\")\n",
    "ts_df = ts_df.loc[ts_df[\"t\"] <= 242]\n",
    "cell_names = ts_df[\"name\"].unique()\n",
    "valid_cell_names = []\n",
    "for name in cell_names:\n",
    "    time_points = ts_df.loc[ts_df['name'] == name][\"t\"].values\n",
    "    if len(time_points == 1) and time_points[0] == 242:\n",
    "        continue\n",
    "    valid_cell_names.append(name)"
   ]
  },
  {
   "cell_type": "code",
   "execution_count": 2,
   "id": "a6953508",
   "metadata": {},
   "outputs": [],
   "source": [
    "# name mapping\n",
    "def map_names(did):\n",
    "    \"\"\" Re-map cells to use their 'name' given their 'did'. Only applies to a\n",
    "        few select cells where the tracker uses their 'name' instead of 'did'.\n",
    "    \"\"\"\n",
    "    if   did == \"P4a\": return \"Z3\"\n",
    "    elif did == \"P4p\": return \"Z2\"\n",
    "    elif did == \"P0a\": return \"AB\"\n",
    "    else: return did"
   ]
  },
  {
   "cell_type": "code",
   "execution_count": 3,
   "id": "271a4b2c",
   "metadata": {},
   "outputs": [
    {
     "data": {
      "text/plain": [
       "944"
      ]
     },
     "execution_count": 3,
     "metadata": {},
     "output_type": "execute_result"
    }
   ],
   "source": [
    "len(valid_cell_names)"
   ]
  },
  {
   "cell_type": "code",
   "execution_count": 4,
   "id": "b5e5faca",
   "metadata": {},
   "outputs": [],
   "source": [
    "import json\n",
    "\n",
    "def load_json(file_path):\n",
    "    \"\"\"\n",
    "    Load a JSON file and return its content as a Python object.\n",
    "    \n",
    "    :param file_path: Path to the JSON file.\n",
    "    :return: Parsed JSON content as a Python object.\n",
    "    \"\"\"\n",
    "    with open(file_path, 'r', encoding='utf-8') as file:\n",
    "        return json.load(file)\n",
    "    \n",
    "lineage_data = load_json('./data/cell_lineage.json')\n"
   ]
  },
  {
   "cell_type": "code",
   "execution_count": 5,
   "id": "086cc6b6",
   "metadata": {},
   "outputs": [],
   "source": [
    "from collections import defaultdict\n",
    "terminal_nodes = []\n",
    "terminal_parents = []\n",
    "terminal_graph = defaultdict(list)\n",
    "def dfs(node, parent):\n",
    "    children = node.get(\"children\", [])\n",
    "    if len(children) == 0:\n",
    "        lookup_name = map_names(node[\"did\"])\n",
    "        p_lookup_name = map_names(parent['did'])\n",
    "        if lookup_name in valid_cell_names:\n",
    "            terminal_nodes.append(lookup_name)\n",
    "            terminal_parents.append(p_lookup_name)\n",
    "            terminal_graph[p_lookup_name].append(lookup_name)\n",
    "    else:\n",
    "        for child in children:\n",
    "            dfs(child, node)\n",
    "\n",
    "dfs(lineage_data, None)"
   ]
  },
  {
   "cell_type": "code",
   "execution_count": 6,
   "id": "cba9b3e1",
   "metadata": {},
   "outputs": [
    {
     "data": {
      "text/plain": [
       "248"
      ]
     },
     "execution_count": 6,
     "metadata": {},
     "output_type": "execute_result"
    }
   ],
   "source": [
    "len(terminal_nodes)"
   ]
  },
  {
   "cell_type": "code",
   "execution_count": 7,
   "id": "81b5bb0a",
   "metadata": {},
   "outputs": [],
   "source": [
    "terminal_node_cords = []\n",
    "terminal_parent_cords = []\n",
    "for node, parent in zip(terminal_nodes, terminal_parents):\n",
    "    terminal_node_cords.append(ts_df.loc[ts_df['name'] == node].values[-1][1:4]*0.1625)\n",
    "    terminal_parent_cords.append(ts_df.loc[ts_df['name'] == parent].values[-1][1:4]*0.1625)"
   ]
  },
  {
   "cell_type": "code",
   "execution_count": 8,
   "id": "e24556b2",
   "metadata": {},
   "outputs": [],
   "source": [
    "import numpy as np\n",
    "from scipy.optimize import linear_sum_assignment"
   ]
  },
  {
   "cell_type": "code",
   "execution_count": 9,
   "id": "d66d5fe0",
   "metadata": {},
   "outputs": [],
   "source": [
    "cost_mat = np.zeros((len(terminal_parent_cords), len(terminal_parent_cords)))"
   ]
  },
  {
   "cell_type": "code",
   "execution_count": 10,
   "id": "1889932b",
   "metadata": {},
   "outputs": [],
   "source": [
    "for i in range(len(terminal_parent_cords)):\n",
    "    for j in range(len(terminal_parent_cords)):\n",
    "        cost_mat[i][j] = np.linalg.norm(terminal_parent_cords[i] - terminal_node_cords[j])"
   ]
  },
  {
   "cell_type": "code",
   "execution_count": 11,
   "id": "3ac8b1bb",
   "metadata": {},
   "outputs": [],
   "source": [
    "row_ind, col_ind = linear_sum_assignment(cost_mat)"
   ]
  },
  {
   "cell_type": "code",
   "execution_count": 26,
   "id": "14aad339",
   "metadata": {},
   "outputs": [],
   "source": [
    "count = 0\n",
    "for row, col in zip(row_ind, col_ind):\n",
    "    parent = terminal_parents[row]\n",
    "    new_child = terminal_nodes[col]\n",
    "    if new_child in terminal_graph[parent]:\n",
    "        count += 1"
   ]
  },
  {
   "cell_type": "code",
   "execution_count": 30,
   "id": "a36e8a2d",
   "metadata": {},
   "outputs": [
    {
     "data": {
      "text/plain": [
       "0.625"
      ]
     },
     "execution_count": 30,
     "metadata": {},
     "output_type": "execute_result"
    }
   ],
   "source": [
    "count / 248"
   ]
  },
  {
   "cell_type": "markdown",
   "id": "23828c16",
   "metadata": {},
   "source": [
    "optimal: 612.08\n",
    "lineage: 696.64\n",
    "percentage: 62%\n",
    "do some random assignment test"
   ]
  },
  {
   "cell_type": "code",
   "execution_count": 12,
   "id": "3aceb8cf",
   "metadata": {},
   "outputs": [
    {
     "data": {
      "text/plain": [
       "np.float64(612.0831926576882)"
      ]
     },
     "execution_count": 12,
     "metadata": {},
     "output_type": "execute_result"
    }
   ],
   "source": [
    "cost_mat[row_ind, col_ind].sum() "
   ]
  },
  {
   "cell_type": "code",
   "execution_count": 13,
   "id": "462a0706",
   "metadata": {},
   "outputs": [
    {
     "data": {
      "text/plain": [
       "np.float64(696.6409294449925)"
      ]
     },
     "execution_count": 13,
     "metadata": {},
     "output_type": "execute_result"
    }
   ],
   "source": [
    "cost_mat.diagonal().sum()"
   ]
  },
  {
   "cell_type": "code",
   "execution_count": 20,
   "id": "76e39e30",
   "metadata": {},
   "outputs": [],
   "source": [
    "monte_carlo_list = []\n",
    "for i in range(10000000):\n",
    "    monte_carlo_list.append(cost_mat[row_ind, np.random.permutation(248)].sum())\n",
    " "
   ]
  },
  {
   "cell_type": "code",
   "execution_count": 21,
   "id": "401920a8",
   "metadata": {},
   "outputs": [],
   "source": [
    "lineage_cost = cost_mat.diagonal().sum()\n",
    "count = 0\n",
    "for i in monte_carlo_list:\n",
    "    if i < lineage_cost: count += 1"
   ]
  },
  {
   "cell_type": "code",
   "execution_count": 23,
   "id": "fb065aa7",
   "metadata": {},
   "outputs": [
    {
     "data": {
      "text/plain": [
       "np.float64(3700.6407127242264)"
      ]
     },
     "execution_count": 23,
     "metadata": {},
     "output_type": "execute_result"
    }
   ],
   "source": [
    "min(monte_carlo_list)"
   ]
  },
  {
   "cell_type": "code",
   "execution_count": 24,
   "id": "4588d14c",
   "metadata": {},
   "outputs": [
    {
     "data": {
      "text/plain": [
       "np.float64(4690.391465256001)"
      ]
     },
     "execution_count": 24,
     "metadata": {},
     "output_type": "execute_result"
    }
   ],
   "source": [
    "max(monte_carlo_list)"
   ]
  },
  {
   "cell_type": "code",
   "execution_count": null,
   "id": "445c6268",
   "metadata": {},
   "outputs": [],
   "source": []
  }
 ],
 "metadata": {
  "kernelspec": {
   "display_name": "root_dev",
   "language": "python",
   "name": "python3"
  },
  "language_info": {
   "codemirror_mode": {
    "name": "ipython",
    "version": 3
   },
   "file_extension": ".py",
   "mimetype": "text/x-python",
   "name": "python",
   "nbconvert_exporter": "python",
   "pygments_lexer": "ipython3",
   "version": "3.12.9"
  }
 },
 "nbformat": 4,
 "nbformat_minor": 5
}
