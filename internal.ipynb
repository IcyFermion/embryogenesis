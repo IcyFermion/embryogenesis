{
 "cells": [
  {
   "cell_type": "code",
   "execution_count": 23,
   "id": "b4aa581e",
   "metadata": {},
   "outputs": [],
   "source": [
    "import pandas as pd\n",
    "import numpy as np\n",
    "from collections import defaultdict, deque\n",
    "from scipy.optimize import linear_sum_assignment"
   ]
  },
  {
   "cell_type": "code",
   "execution_count": 24,
   "id": "71a89c27",
   "metadata": {},
   "outputs": [],
   "source": [
    "ts_df = pd.read_csv(\"./data/tracks.txt\", sep=\"\\t\")\n",
    "ts_df = ts_df.loc[ts_df[\"t\"] <= 242]\n",
    "cell_names = ts_df[\"name\"].unique()\n",
    "valid_cell_names = []\n",
    "for name in cell_names:\n",
    "    time_points = ts_df.loc[ts_df['name'] == name][\"t\"].values\n",
    "    if len(time_points == 1) and time_points[0] == 242:\n",
    "        continue\n",
    "    valid_cell_names.append(name)\n"
   ]
  },
  {
   "cell_type": "code",
   "execution_count": 25,
   "id": "83a99f9e",
   "metadata": {},
   "outputs": [],
   "source": [
    "\n",
    "# name mapping\n",
    "def map_names(did):\n",
    "    \"\"\" Re-map cells to use their 'name' given their 'did'. Only applies to a\n",
    "        few select cells where the tracker uses their 'name' instead of 'did'.\n",
    "    \"\"\"\n",
    "    if   did == \"P4a\": return \"Z3\"\n",
    "    elif did == \"P4p\": return \"Z2\"\n",
    "    elif did == \"P0a\": return \"AB\"\n",
    "    else: return did\n",
    "\n",
    "untracked_nodes = [\"AB\", \"P0\", \"P1\"]\n",
    "\n",
    "first_internal_layer = [\"ABa\", \"ABp\", \"EMS\", \"P2\"]"
   ]
  },
  {
   "cell_type": "code",
   "execution_count": 26,
   "id": "7f88fab2",
   "metadata": {},
   "outputs": [],
   "source": [
    "import json\n",
    "\n",
    "def load_json(file_path):\n",
    "    \"\"\"\n",
    "    Load a JSON file and return its content as a Python object.\n",
    "    \n",
    "    :param file_path: Path to the JSON file.\n",
    "    :return: Parsed JSON content as a Python object.\n",
    "    \"\"\"\n",
    "    with open(file_path, 'r', encoding='utf-8') as file:\n",
    "        return json.load(file)\n",
    "    \n",
    "lineage_data = load_json('./data/cell_lineage.json')\n"
   ]
  },
  {
   "cell_type": "code",
   "execution_count": 27,
   "id": "8f243d0e",
   "metadata": {},
   "outputs": [],
   "source": [
    "class Node:\n",
    "    def __init__(self, key, coordinate):\n",
    "        self.key = key\n",
    "        self.coordinate = coordinate\n",
    "        self.children = []\n",
    "        self.optimized = False\n",
    "        self.parent = None\n",
    "    "
   ]
  },
  {
   "cell_type": "code",
   "execution_count": 28,
   "id": "4230e08f",
   "metadata": {},
   "outputs": [],
   "source": [
    "terminal_nodes = []\n",
    "internal_front = []\n",
    "internal_pool = []\n",
    "coordinate_map = {}\n",
    "depth_group = defaultdict(list)\n",
    "def dfs(node, terminal_nodes, depth):\n",
    "    children = node.get(\"children\", [])\n",
    "    lookup_name = map_names(node[\"did\"])\n",
    "    if lookup_name in valid_cell_names or lookup_name in untracked_nodes:\n",
    "        if lookup_name in valid_cell_names:\n",
    "            coordinate = ts_df.loc[ts_df['name'] == lookup_name].values[-1][1:4]*0.1625\n",
    "        else:\n",
    "            coordinate = np.array([0, 0, 0])\n",
    "        tree_node = Node(lookup_name, coordinate)\n",
    "        coordinate_map[lookup_name] = coordinate\n",
    "        for child in children:\n",
    "            child_node = dfs(child, terminal_nodes, depth+1)\n",
    "            if child_node:\n",
    "                child_node.parent = tree_node\n",
    "                tree_node.children.append(child_node)\n",
    "        if len(children) == 0:\n",
    "            terminal_nodes.append(tree_node)\n",
    "            tree_node.optimized = True\n",
    "            depth_group[depth].append(tree_node)\n",
    "            return tree_node\n",
    "        if lookup_name in first_internal_layer:\n",
    "            tree_node.optimized = True\n",
    "            internal_front.append(tree_node)\n",
    "        elif lookup_name not in untracked_nodes:\n",
    "            internal_pool.append(tree_node.key)\n",
    "        depth_group[depth].append(tree_node)\n",
    "        return tree_node\n",
    "    else:\n",
    "        return None\n",
    "\n",
    "root = dfs(lineage_data, terminal_nodes, 0)\n",
    "terminal_nodes_names = [node.key for node in terminal_nodes]"
   ]
  },
  {
   "cell_type": "code",
   "execution_count": 43,
   "id": "8356cade",
   "metadata": {},
   "outputs": [],
   "source": [
    "# pruning \"fake\" terminal nodes\n",
    "terminal_nodes = []\n",
    "internal_front = []\n",
    "internal_pool = []\n",
    "coordinate_map = {}\n",
    "fake_terminal = []\n",
    "depth_group = defaultdict(list)\n",
    "def dfs(node, terminal_nodes, depth):\n",
    "    children = node.get(\"children\", [])\n",
    "    lookup_name = map_names(node[\"did\"])\n",
    "    if lookup_name in valid_cell_names or lookup_name in untracked_nodes:\n",
    "        if lookup_name in valid_cell_names:\n",
    "            coordinate = ts_df.loc[ts_df['name'] == lookup_name].values[-1][1:4]*0.1625\n",
    "        else:\n",
    "            coordinate = np.array([0, 0, 0])\n",
    "        tree_node = Node(lookup_name, coordinate)\n",
    "        coordinate_map[lookup_name] = coordinate\n",
    "        for child in children:\n",
    "            child_node = dfs(child, terminal_nodes, depth+1)\n",
    "            if child_node:\n",
    "                child_node.parent = tree_node\n",
    "                tree_node.children.append(child_node)\n",
    "        if len(children) == 0:\n",
    "            terminal_nodes.append(tree_node)\n",
    "            tree_node.optimized = True\n",
    "            depth_group[depth].append(tree_node)\n",
    "            return tree_node\n",
    "        # \"fake\" terminal nodes:\n",
    "        if len(tree_node.children) == 0:\n",
    "            fake_terminal.append(tree_node)\n",
    "        if lookup_name in first_internal_layer:\n",
    "            tree_node.optimized = True\n",
    "            internal_front.append(tree_node)\n",
    "        elif lookup_name not in untracked_nodes:\n",
    "            internal_pool.append(tree_node.key)\n",
    "        depth_group[depth].append(tree_node)\n",
    "        return tree_node\n",
    "    else:\n",
    "        return None\n",
    "\n",
    "root = dfs(lineage_data, terminal_nodes, 0)\n",
    "terminal_nodes_names = [node.key for node in terminal_nodes]"
   ]
  },
  {
   "cell_type": "code",
   "execution_count": 44,
   "id": "8a0452a0",
   "metadata": {},
   "outputs": [],
   "source": [
    "# fake terminal pruning with BFS\n",
    "fake_q = deque(fake_terminal)\n",
    "while len(fake_q) > 0:\n",
    "    cur_node = fake_q.popleft()\n",
    "    if (cur_node.key in first_internal_layer): print('hmmm....')\n",
    "    internal_pool.remove(cur_node.key)\n",
    "    cur_parent = cur_node.parent\n",
    "    cur_parent.children.remove(cur_node)\n",
    "    if len(cur_parent.children) < 1:\n",
    "        fake_q.append(cur_parent)"
   ]
  },
  {
   "cell_type": "markdown",
   "id": "b5ff0ae0",
   "metadata": {},
   "source": [
    "381? check if it is still a tree, at most two children, true terminal nodes, exactly one parent node"
   ]
  },
  {
   "cell_type": "code",
   "execution_count": 45,
   "id": "9f13c3ac",
   "metadata": {},
   "outputs": [
    {
     "name": "stdout",
     "output_type": "stream",
     "text": [
      "2767.4784896724996\n"
     ]
    }
   ],
   "source": [
    "cost_q = deque()\n",
    "for node in internal_front:\n",
    "    cost_q.append((node, 0))\n",
    "level_cost = defaultdict(int)\n",
    "lineage_cost = 0\n",
    "while len(cost_q) > 0:\n",
    "    cur_node, cur_level = cost_q.popleft()\n",
    "    for child in cur_node.children:\n",
    "        lineage_cost += np.linalg.norm(cur_node.coordinate - child.coordinate)\n",
    "        level_cost[cur_level] += np.linalg.norm(cur_node.coordinate - child.coordinate)\n",
    "        cost_q.append((child, cur_level+1))\n",
    "print(lineage_cost)"
   ]
  },
  {
   "cell_type": "code",
   "execution_count": 46,
   "id": "c6d95659",
   "metadata": {},
   "outputs": [],
   "source": [
    "# strictly optimize layer by layer\n",
    "for depth in range(3, 11):\n",
    "    cur_level_nodes = []\n",
    "    cur_level_nodes_names = []\n",
    "    for node in depth_group[depth]:\n",
    "        if node.key in internal_pool:\n",
    "            cur_level_nodes.append(node)\n",
    "            cur_level_nodes_names.append(node.key)\n",
    "    parents = [node.parent.key for node in cur_level_nodes]\n",
    "    cost_mat = np.zeros((len(cur_level_nodes_names), len(parents)))\n",
    "    for i in range(len(cur_level_nodes_names)):\n",
    "        for j in range(len(parents)):\n",
    "            cost_mat[i][j] = np.linalg.norm(coordinate_map[cur_level_nodes_names[i]] - coordinate_map[parents[j]])\n",
    "    row_indices, col_indices = linear_sum_assignment(cost_mat)\n",
    "    for row, col in zip(row_indices, col_indices):\n",
    "        cur_node = cur_level_nodes[col]\n",
    "        new_node_name = cur_level_nodes_names[row]\n",
    "        new_node_coordinate = coordinate_map[new_node_name]\n",
    "        cur_node.key = new_node_name\n",
    "        cur_node.coordinate = new_node_coordinate\n",
    "        cur_node.optimized = True\n",
    "\n",
    "terminal_parents = [node.parent.key for node in terminal_nodes]\n",
    "cost_mat = np.zeros((len(terminal_nodes_names), len(terminal_parents)))\n",
    "for i in range(len(terminal_nodes_names)):\n",
    "    for j in range(len(terminal_parents)):\n",
    "        cost_mat[i][j] = np.linalg.norm(coordinate_map[terminal_nodes_names[i]] - coordinate_map[terminal_parents[j]])\n",
    "row_indices, col_indices = linear_sum_assignment(cost_mat)\n",
    "for row, col in zip(row_indices, col_indices):\n",
    "    cur_node = terminal_nodes[col]\n",
    "    new_node_name = terminal_nodes_names[row]\n",
    "    new_node_coordinate = coordinate_map[new_node_name]\n",
    "    cur_node.key = new_node_name\n",
    "    cur_node.coordinate = new_node_coordinate\n",
    "    cur_node.optimized = True"
   ]
  },
  {
   "cell_type": "code",
   "execution_count": 47,
   "id": "a3653db0",
   "metadata": {},
   "outputs": [
    {
     "name": "stdout",
     "output_type": "stream",
     "text": [
      "2498.1560431395287\n"
     ]
    }
   ],
   "source": [
    "cost_q = deque(internal_front)\n",
    "lineage_cost = 0\n",
    "while len(cost_q) > 0:\n",
    "    cur_node = cost_q.popleft()\n",
    "    for child in cur_node.children:\n",
    "        lineage_cost += np.linalg.norm(cur_node.coordinate - child.coordinate)\n",
    "        cost_q.append(child)\n",
    "print(lineage_cost)"
   ]
  },
  {
   "cell_type": "code",
   "execution_count": null,
   "id": "60af60b6",
   "metadata": {},
   "outputs": [
    {
     "name": "stdout",
     "output_type": "stream",
     "text": [
      "22.94056466762293\n",
      "53.88515892774103\n",
      "100.90815688828023\n",
      "153.67046134169698\n",
      "303.0360285968159\n",
      "471.59221458006994\n",
      "801.0344045949911\n"
     ]
    }
   ],
   "source": [
    "optimize_q = internal_front.copy()\n",
    "cur_cost = 0\n",
    "terminal_parents = []\n",
    "while len(internal_pool) > 0:\n",
    "    parents = []\n",
    "    next_front = []\n",
    "    for node in optimize_q:\n",
    "        for child in node.children:\n",
    "            if child.optimized: \n",
    "                terminal_parents.append(node)\n",
    "                continue\n",
    "            parents.append(node.key)\n",
    "            next_front.append(child)\n",
    "    cost_mat = np.zeros((len(internal_pool), len(parents)))\n",
    "    for i in range(len(internal_pool)):\n",
    "        for j in range(len(parents)):\n",
    "            cost_mat[i][j] = np.linalg.norm(coordinate_map[internal_pool[i]] - coordinate_map[parents[j]])\n",
    "    row_indices, col_indices = linear_sum_assignment(cost_mat)\n",
    "    for row, col in zip(row_indices, col_indices):\n",
    "        cur_node = next_front[col]\n",
    "        new_node_name = internal_pool[row]\n",
    "        new_node_coordinate = coordinate_map[new_node_name]\n",
    "        cur_node.key = new_node_name\n",
    "        cur_node.coordinate = new_node_coordinate\n",
    "        cur_node.optimized = True\n",
    "\n",
    "    for index in reversed(row_indices):\n",
    "        del internal_pool[index]\n",
    "    optimize_q = next_front\n",
    "    cur_cost += cost_mat[row_indices, col_indices].sum()\n",
    "    print(cost_mat[row_indices, col_indices].sum())\n"
   ]
  },
  {
   "cell_type": "code",
   "execution_count": null,
   "id": "9c0271d8",
   "metadata": {},
   "outputs": [],
   "source": [
    "terminal_parents = [node.parent.key for node in terminal_nodes]\n",
    "cost_mat = np.zeros((len(terminal_nodes_names), len(terminal_parents)))\n",
    "for i in range(len(terminal_nodes_names)):\n",
    "    for j in range(len(terminal_parents)):\n",
    "        cost_mat[i][j] = np.linalg.norm(coordinate_map[terminal_nodes_names[i]] - coordinate_map[terminal_parents[j]])\n",
    "row_indices, col_indices = linear_sum_assignment(cost_mat)\n",
    "for row, col in zip(row_indices, col_indices):\n",
    "    cur_node = terminal_nodes[col]\n",
    "    new_node_name = terminal_nodes_names[row]\n",
    "    new_node_coordinate = coordinate_map[new_node_name]\n",
    "    cur_node.key = new_node_name\n",
    "    cur_node.coordinate = new_node_coordinate\n",
    "    cur_node.optimized = True"
   ]
  },
  {
   "cell_type": "code",
   "execution_count": 61,
   "id": "f72da456",
   "metadata": {},
   "outputs": [
    {
     "name": "stdout",
     "output_type": "stream",
     "text": [
      "2682.920752885195\n"
     ]
    }
   ],
   "source": [
    "cost_q = deque(internal_front)\n",
    "lineage_cost = 0\n",
    "while len(cost_q) > 0:\n",
    "    cur_node = cost_q.popleft()\n",
    "    for child in cur_node.children:\n",
    "        lineage_cost += np.linalg.norm(cur_node.coordinate - child.coordinate)\n",
    "        cost_q.append(child)\n",
    "print(lineage_cost)"
   ]
  },
  {
   "cell_type": "code",
   "execution_count": 40,
   "id": "d489a60e",
   "metadata": {},
   "outputs": [
    {
     "data": {
      "text/plain": [
       "474"
      ]
     },
     "execution_count": 40,
     "metadata": {},
     "output_type": "execute_result"
    }
   ],
   "source": [
    "len(terminal_nodes)"
   ]
  },
  {
   "cell_type": "code",
   "execution_count": 31,
   "id": "c627ab7a",
   "metadata": {},
   "outputs": [
    {
     "data": {
      "text/plain": [
       "[10, 9, 8, 7, 6, 5, 4, 3]"
      ]
     },
     "execution_count": 31,
     "metadata": {},
     "output_type": "execute_result"
    }
   ],
   "source": [
    "sorted(depth_group.keys(), reverse=True)[:-3]"
   ]
  },
  {
   "cell_type": "code",
   "execution_count": 32,
   "id": "09c9de1d",
   "metadata": {},
   "outputs": [
    {
     "data": {
      "text/plain": [
       "692"
      ]
     },
     "execution_count": 32,
     "metadata": {},
     "output_type": "execute_result"
    }
   ],
   "source": [
    "len(internal_pool)"
   ]
  },
  {
   "cell_type": "code",
   "execution_count": 70,
   "id": "1ac9e7a8",
   "metadata": {},
   "outputs": [
    {
     "name": "stdout",
     "output_type": "stream",
     "text": [
      "90\n",
      "159\n",
      "103\n",
      "60\n",
      "30\n",
      "16\n",
      "8\n",
      "0\n"
     ]
    }
   ],
   "source": [
    "cur_cost = 0\n",
    "for depth in sorted(depth_group.keys(), reverse=True)[:-3]:\n",
    "    optimize_q = depth_group[depth]\n",
    "    parents_dict = {}\n",
    "    next_front = []\n",
    "    parents = []\n",
    "    for node in optimize_q:\n",
    "        if node.parent.optimized: continue\n",
    "        if node.parent.key in parents_dict:\n",
    "            parents_dict[node.parent.key].append(node.key)\n",
    "        else:\n",
    "            parents_dict[node.parent.key] = [node.key]\n",
    "            parents.append(node.parent.key)\n",
    "            next_front.append(node.parent)\n",
    "\n",
    "    cost_mat = np.zeros((len(internal_pool), len(parents)))\n",
    "    for i in range(len(internal_pool)):\n",
    "        for j in range(len(parents)):\n",
    "            for child in parents_dict[parents[j]]:\n",
    "                cost_mat[i][j] += np.linalg.norm(coordinate_map[internal_pool[i]] - coordinate_map[child])\n",
    "    row_indices, col_indices = linear_sum_assignment(cost_mat)\n",
    "    for row, col in zip(row_indices, col_indices):\n",
    "        cur_node = next_front[col]\n",
    "        new_node_name = internal_pool[row]\n",
    "        new_node_coordinate = coordinate_map[new_node_name]\n",
    "        cur_node.key = new_node_name\n",
    "        cur_node.coordinate = new_node_coordinate\n",
    "\n",
    "    for index in reversed(row_indices):\n",
    "        del internal_pool[index]\n",
    "    optimize_q = next_front\n",
    "    cur_cost += cost_mat[row_indices, col_indices].sum()\n",
    "    print(len(optimize_q))"
   ]
  },
  {
   "cell_type": "code",
   "execution_count": 10,
   "id": "fe25d4d6",
   "metadata": {},
   "outputs": [
    {
     "name": "stdout",
     "output_type": "stream",
     "text": [
      "155\n",
      "109\n",
      "72\n",
      "48\n",
      "25\n",
      "14\n",
      "5\n",
      "0\n"
     ]
    }
   ],
   "source": [
    "optimize_q = terminal_nodes.copy()\n",
    "cur_cost = 0\n",
    "while len(optimize_q) > 0:\n",
    "    parents_dict = {}\n",
    "    next_front = []\n",
    "    parents = []\n",
    "    for node in optimize_q:\n",
    "        if node.parent.optimized: continue\n",
    "        if node.parent.key in parents_dict:\n",
    "            parents_dict[node.parent.key].append(node.key)\n",
    "        else:\n",
    "            parents_dict[node.parent.key] = [node.key]\n",
    "            parents.append(node.parent.key)\n",
    "            next_front.append(node.parent)\n",
    "\n",
    "    cost_mat = np.zeros((len(internal_pool), len(parents)))\n",
    "    for i in range(len(internal_pool)):\n",
    "        for j in range(len(parents)):\n",
    "            for child in parents_dict[parents[j]]:\n",
    "                cost_mat[i][j] += np.linalg.norm(coordinate_map[internal_pool[i]] - coordinate_map[child])\n",
    "    row_indices, col_indices = linear_sum_assignment(cost_mat)\n",
    "    for row, col in zip(row_indices, col_indices):\n",
    "        cur_node = next_front[col]\n",
    "        new_node_name = internal_pool[row]\n",
    "        new_node_coordinate = coordinate_map[new_node_name]\n",
    "        cur_node.key = new_node_name\n",
    "        cur_node.coordinate = new_node_coordinate\n",
    "\n",
    "    for index in reversed(row_indices):\n",
    "        del internal_pool[index]\n",
    "    optimize_q = next_front\n",
    "    cur_cost += cost_mat[row_indices, col_indices].sum()\n",
    "    print(len(optimize_q))\n"
   ]
  },
  {
   "cell_type": "code",
   "execution_count": 11,
   "id": "a42443e8",
   "metadata": {},
   "outputs": [
    {
     "name": "stdout",
     "output_type": "stream",
     "text": [
      "2818.391986433554\n"
     ]
    }
   ],
   "source": [
    "cost_q = deque(internal_front)\n",
    "lineage_cost = 0\n",
    "while len(cost_q) > 0:\n",
    "    cur_node = cost_q.popleft()\n",
    "    for child in cur_node.children:\n",
    "        lineage_cost += np.linalg.norm(cur_node.coordinate - child.coordinate)\n",
    "        cost_q.append(child)\n",
    "print(lineage_cost)"
   ]
  },
  {
   "cell_type": "code",
   "execution_count": null,
   "id": "bcaff599",
   "metadata": {},
   "outputs": [],
   "source": []
  }
 ],
 "metadata": {
  "kernelspec": {
   "display_name": "root-dev",
   "language": "python",
   "name": "python3"
  },
  "language_info": {
   "codemirror_mode": {
    "name": "ipython",
    "version": 3
   },
   "file_extension": ".py",
   "mimetype": "text/x-python",
   "name": "python",
   "nbconvert_exporter": "python",
   "pygments_lexer": "ipython3",
   "version": "3.13.3"
  }
 },
 "nbformat": 4,
 "nbformat_minor": 5
}
